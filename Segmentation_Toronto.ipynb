{
 "cells": [
  {
   "cell_type": "markdown",
   "metadata": {},
   "source": [
    "## Segmenting and Clustering Neighborhoods in Toronto"
   ]
  },
  {
   "cell_type": "markdown",
   "metadata": {},
   "source": [
    "Importing the modules required for the assignment."
   ]
  },
  {
   "cell_type": "code",
   "execution_count": 15,
   "metadata": {},
   "outputs": [],
   "source": [
    "import requests\n",
    "from bs4 import BeautifulSoup\n",
    "import pandas as pd\n",
    "# install geopy & folium\n",
    "#pip install geopy\n",
    "#!pip install folium=0.5.0 \n",
    "\n",
    "from geopy.geocoders import Nominatim\n",
    "import folium"
   ]
  },
  {
   "cell_type": "markdown",
   "metadata": {},
   "source": [
    "### Question 1: Scrape the Wikipedia page and get the dataframe\n",
    "\n",
    "The wikipedia page is obtained using the python requests module. Once this is done, the beautiful soup package is used\n",
    "for the purpose of getting the table extracted from the html output"
   ]
  },
  {
   "cell_type": "code",
   "execution_count": 2,
   "metadata": {},
   "outputs": [
    {
     "data": {
      "text/plain": [
       "['\\nPostal code\\n\\nBorough\\n\\nNeighborhood\\n',\n",
       " '\\nM1A\\n\\nNot assigned\\n\\n\\n',\n",
       " '\\nM2A\\n\\nNot assigned\\n\\n\\n',\n",
       " '\\nM3A\\n\\nNorth York\\n\\nParkwoods\\n',\n",
       " '\\nM4A\\n\\nNorth York\\n\\nVictoria Village\\n']"
      ]
     },
     "execution_count": 2,
     "metadata": {},
     "output_type": "execute_result"
    }
   ],
   "source": [
    "page = requests.get(\"https://en.wikipedia.org/wiki/List_of_postal_codes_of_Canada:_M\")\n",
    "soup = BeautifulSoup(page.content, 'html.parser')\n",
    "table = soup.find('tbody')\n",
    "rows = table.select('tr')\n",
    "row = [r.get_text() for r in rows]\n",
    "row[0:5]"
   ]
  },
  {
   "cell_type": "markdown",
   "metadata": {},
   "source": [
    "As we can see that in the above output we have some newline characters. So we cansplit by these characters and push them to our dataframe.\n",
    "\n",
    "\n",
    "\n",
    "### Extract the column values and store it in the dataframe."
   ]
  },
  {
   "cell_type": "code",
   "execution_count": 3,
   "metadata": {},
   "outputs": [
    {
     "data": {
      "text/html": [
       "<div>\n",
       "<style scoped>\n",
       "    .dataframe tbody tr th:only-of-type {\n",
       "        vertical-align: middle;\n",
       "    }\n",
       "\n",
       "    .dataframe tbody tr th {\n",
       "        vertical-align: top;\n",
       "    }\n",
       "\n",
       "    .dataframe thead th {\n",
       "        text-align: right;\n",
       "    }\n",
       "</style>\n",
       "<table border=\"1\" class=\"dataframe\">\n",
       "  <thead>\n",
       "    <tr style=\"text-align: right;\">\n",
       "      <th></th>\n",
       "      <th></th>\n",
       "      <th>Postal code</th>\n",
       "      <th></th>\n",
       "      <th>Borough</th>\n",
       "      <th></th>\n",
       "      <th>Neighborhood</th>\n",
       "      <th></th>\n",
       "    </tr>\n",
       "  </thead>\n",
       "  <tbody>\n",
       "    <tr>\n",
       "      <th>1</th>\n",
       "      <td></td>\n",
       "      <td>M1A</td>\n",
       "      <td></td>\n",
       "      <td>Not assigned</td>\n",
       "      <td></td>\n",
       "      <td></td>\n",
       "      <td></td>\n",
       "    </tr>\n",
       "    <tr>\n",
       "      <th>2</th>\n",
       "      <td></td>\n",
       "      <td>M2A</td>\n",
       "      <td></td>\n",
       "      <td>Not assigned</td>\n",
       "      <td></td>\n",
       "      <td></td>\n",
       "      <td></td>\n",
       "    </tr>\n",
       "    <tr>\n",
       "      <th>3</th>\n",
       "      <td></td>\n",
       "      <td>M3A</td>\n",
       "      <td></td>\n",
       "      <td>North York</td>\n",
       "      <td></td>\n",
       "      <td>Parkwoods</td>\n",
       "      <td></td>\n",
       "    </tr>\n",
       "    <tr>\n",
       "      <th>4</th>\n",
       "      <td></td>\n",
       "      <td>M4A</td>\n",
       "      <td></td>\n",
       "      <td>North York</td>\n",
       "      <td></td>\n",
       "      <td>Victoria Village</td>\n",
       "      <td></td>\n",
       "    </tr>\n",
       "    <tr>\n",
       "      <th>5</th>\n",
       "      <td></td>\n",
       "      <td>M5A</td>\n",
       "      <td></td>\n",
       "      <td>Downtown Toronto</td>\n",
       "      <td></td>\n",
       "      <td>Regent Park / Harbourfront</td>\n",
       "      <td></td>\n",
       "    </tr>\n",
       "  </tbody>\n",
       "</table>\n",
       "</div>"
      ],
      "text/plain": [
       "    Postal code             Borough                  Neighborhood  \n",
       "1           M1A        Not assigned                                \n",
       "2           M2A        Not assigned                                \n",
       "3           M3A          North York                     Parkwoods  \n",
       "4           M4A          North York              Victoria Village  \n",
       "5           M5A    Downtown Toronto    Regent Park / Harbourfront  "
      ]
     },
     "execution_count": 3,
     "metadata": {},
     "output_type": "execute_result"
    }
   ],
   "source": [
    "df = pd.DataFrame(row)\n",
    "df1 = df[0].str.split('\\n', expand=True)\n",
    "df1.rename(columns=df1.iloc[0], inplace=True)\n",
    "df1.drop(df1.index[0],inplace=True)\n",
    "df1.head()"
   ]
  },
  {
   "cell_type": "markdown",
   "metadata": {},
   "source": [
    "If we look into the data we can see that the rows having the Not Assigned can be ignored since the neighborhood column for that row will always be empty"
   ]
  },
  {
   "cell_type": "code",
   "execution_count": 4,
   "metadata": {},
   "outputs": [
    {
     "data": {
      "text/html": [
       "<div>\n",
       "<style scoped>\n",
       "    .dataframe tbody tr th:only-of-type {\n",
       "        vertical-align: middle;\n",
       "    }\n",
       "\n",
       "    .dataframe tbody tr th {\n",
       "        vertical-align: top;\n",
       "    }\n",
       "\n",
       "    .dataframe thead th {\n",
       "        text-align: right;\n",
       "    }\n",
       "</style>\n",
       "<table border=\"1\" class=\"dataframe\">\n",
       "  <thead>\n",
       "    <tr style=\"text-align: right;\">\n",
       "      <th></th>\n",
       "      <th></th>\n",
       "      <th>Postal code</th>\n",
       "      <th></th>\n",
       "      <th>Borough</th>\n",
       "      <th></th>\n",
       "      <th>Neighborhood</th>\n",
       "      <th></th>\n",
       "    </tr>\n",
       "  </thead>\n",
       "  <tbody>\n",
       "    <tr>\n",
       "      <th>1</th>\n",
       "      <td></td>\n",
       "      <td>M1A</td>\n",
       "      <td></td>\n",
       "      <td>Not assigned</td>\n",
       "      <td></td>\n",
       "      <td></td>\n",
       "      <td></td>\n",
       "    </tr>\n",
       "    <tr>\n",
       "      <th>2</th>\n",
       "      <td></td>\n",
       "      <td>M2A</td>\n",
       "      <td></td>\n",
       "      <td>Not assigned</td>\n",
       "      <td></td>\n",
       "      <td></td>\n",
       "      <td></td>\n",
       "    </tr>\n",
       "    <tr>\n",
       "      <th>3</th>\n",
       "      <td></td>\n",
       "      <td>M3A</td>\n",
       "      <td></td>\n",
       "      <td>North York</td>\n",
       "      <td></td>\n",
       "      <td>Parkwoods</td>\n",
       "      <td></td>\n",
       "    </tr>\n",
       "    <tr>\n",
       "      <th>4</th>\n",
       "      <td></td>\n",
       "      <td>M4A</td>\n",
       "      <td></td>\n",
       "      <td>North York</td>\n",
       "      <td></td>\n",
       "      <td>Victoria Village</td>\n",
       "      <td></td>\n",
       "    </tr>\n",
       "    <tr>\n",
       "      <th>5</th>\n",
       "      <td></td>\n",
       "      <td>M5A</td>\n",
       "      <td></td>\n",
       "      <td>Downtown Toronto</td>\n",
       "      <td></td>\n",
       "      <td>Regent Park / Harbourfront</td>\n",
       "      <td></td>\n",
       "    </tr>\n",
       "  </tbody>\n",
       "</table>\n",
       "</div>"
      ],
      "text/plain": [
       "    Postal code             Borough                  Neighborhood  \n",
       "1           M1A        Not assigned                                \n",
       "2           M2A        Not assigned                                \n",
       "3           M3A          North York                     Parkwoods  \n",
       "4           M4A          North York              Victoria Village  \n",
       "5           M5A    Downtown Toronto    Regent Park / Harbourfront  "
      ]
     },
     "execution_count": 4,
     "metadata": {},
     "output_type": "execute_result"
    }
   ],
   "source": [
    "# Filter out the columns where the Borough is Not Assigned. This can also be done by removing rows with Empty neighborhood.\n",
    "\n",
    "df1 = df1[df1[\"Borough\"]!=\"Not Assigned\"]\n",
    "df1.head()"
   ]
  },
  {
   "cell_type": "markdown",
   "metadata": {},
   "source": [
    "### Now we will combine the neighborhoods that have the same postal code.\n"
   ]
  },
  {
   "cell_type": "code",
   "execution_count": 5,
   "metadata": {},
   "outputs": [
    {
     "data": {
      "text/html": [
       "<div>\n",
       "<style scoped>\n",
       "    .dataframe tbody tr th:only-of-type {\n",
       "        vertical-align: middle;\n",
       "    }\n",
       "\n",
       "    .dataframe tbody tr th {\n",
       "        vertical-align: top;\n",
       "    }\n",
       "\n",
       "    .dataframe thead th {\n",
       "        text-align: right;\n",
       "    }\n",
       "</style>\n",
       "<table border=\"1\" class=\"dataframe\">\n",
       "  <thead>\n",
       "    <tr style=\"text-align: right;\">\n",
       "      <th></th>\n",
       "      <th>Postal code</th>\n",
       "      <th>Borough</th>\n",
       "      <th>Neighborhood</th>\n",
       "    </tr>\n",
       "  </thead>\n",
       "  <tbody>\n",
       "    <tr>\n",
       "      <th>0</th>\n",
       "      <td>M1A</td>\n",
       "      <td>Not assigned</td>\n",
       "      <td></td>\n",
       "    </tr>\n",
       "    <tr>\n",
       "      <th>1</th>\n",
       "      <td>M2A</td>\n",
       "      <td>Not assigned</td>\n",
       "      <td></td>\n",
       "    </tr>\n",
       "    <tr>\n",
       "      <th>2</th>\n",
       "      <td>M3A</td>\n",
       "      <td>North York</td>\n",
       "      <td>Parkwoods</td>\n",
       "    </tr>\n",
       "    <tr>\n",
       "      <th>3</th>\n",
       "      <td>M4A</td>\n",
       "      <td>North York</td>\n",
       "      <td>Victoria Village</td>\n",
       "    </tr>\n",
       "    <tr>\n",
       "      <th>4</th>\n",
       "      <td>M5A</td>\n",
       "      <td>Downtown Toronto</td>\n",
       "      <td>Regent Park / Harbourfront</td>\n",
       "    </tr>\n",
       "  </tbody>\n",
       "</table>\n",
       "</div>"
      ],
      "text/plain": [
       "  Postal code           Borough                Neighborhood\n",
       "0         M1A      Not assigned                            \n",
       "1         M2A      Not assigned                            \n",
       "2         M3A        North York                   Parkwoods\n",
       "3         M4A        North York            Victoria Village\n",
       "4         M5A  Downtown Toronto  Regent Park / Harbourfront"
      ]
     },
     "execution_count": 5,
     "metadata": {},
     "output_type": "execute_result"
    }
   ],
   "source": [
    "df2 = df1.groupby(['Postal code', 'Borough'], sort = False).agg(','.join)\n",
    "df2.reset_index(inplace = True)\n",
    "df2.head()"
   ]
  },
  {
   "cell_type": "markdown",
   "metadata": {},
   "source": [
    "### If a cell has a borough but a Not assigned neighborhood, then change the neighborhood will be the same as the borough."
   ]
  },
  {
   "cell_type": "code",
   "execution_count": 6,
   "metadata": {},
   "outputs": [
    {
     "data": {
      "text/html": [
       "<div>\n",
       "<style scoped>\n",
       "    .dataframe tbody tr th:only-of-type {\n",
       "        vertical-align: middle;\n",
       "    }\n",
       "\n",
       "    .dataframe tbody tr th {\n",
       "        vertical-align: top;\n",
       "    }\n",
       "\n",
       "    .dataframe thead th {\n",
       "        text-align: right;\n",
       "    }\n",
       "</style>\n",
       "<table border=\"1\" class=\"dataframe\">\n",
       "  <thead>\n",
       "    <tr style=\"text-align: right;\">\n",
       "      <th></th>\n",
       "      <th>Postal code</th>\n",
       "      <th>Borough</th>\n",
       "      <th>Neighborhood</th>\n",
       "    </tr>\n",
       "  </thead>\n",
       "  <tbody>\n",
       "    <tr>\n",
       "      <th>0</th>\n",
       "      <td>M1A</td>\n",
       "      <td>Not assigned</td>\n",
       "      <td></td>\n",
       "    </tr>\n",
       "    <tr>\n",
       "      <th>1</th>\n",
       "      <td>M2A</td>\n",
       "      <td>Not assigned</td>\n",
       "      <td></td>\n",
       "    </tr>\n",
       "    <tr>\n",
       "      <th>2</th>\n",
       "      <td>M3A</td>\n",
       "      <td>North York</td>\n",
       "      <td>Parkwoods</td>\n",
       "    </tr>\n",
       "    <tr>\n",
       "      <th>3</th>\n",
       "      <td>M4A</td>\n",
       "      <td>North York</td>\n",
       "      <td>Victoria Village</td>\n",
       "    </tr>\n",
       "    <tr>\n",
       "      <th>4</th>\n",
       "      <td>M5A</td>\n",
       "      <td>Downtown Toronto</td>\n",
       "      <td>Regent Park / Harbourfront</td>\n",
       "    </tr>\n",
       "    <tr>\n",
       "      <th>5</th>\n",
       "      <td>M6A</td>\n",
       "      <td>North York</td>\n",
       "      <td>Lawrence Manor / Lawrence Heights</td>\n",
       "    </tr>\n",
       "    <tr>\n",
       "      <th>6</th>\n",
       "      <td>M7A</td>\n",
       "      <td>Downtown Toronto</td>\n",
       "      <td>Queen's Park / Ontario Provincial Government</td>\n",
       "    </tr>\n",
       "    <tr>\n",
       "      <th>7</th>\n",
       "      <td>M8A</td>\n",
       "      <td>Not assigned</td>\n",
       "      <td></td>\n",
       "    </tr>\n",
       "    <tr>\n",
       "      <th>8</th>\n",
       "      <td>M9A</td>\n",
       "      <td>Etobicoke</td>\n",
       "      <td>Islington Avenue</td>\n",
       "    </tr>\n",
       "    <tr>\n",
       "      <th>9</th>\n",
       "      <td>M1B</td>\n",
       "      <td>Scarborough</td>\n",
       "      <td>Malvern / Rouge</td>\n",
       "    </tr>\n",
       "  </tbody>\n",
       "</table>\n",
       "</div>"
      ],
      "text/plain": [
       "  Postal code           Borough                                  Neighborhood\n",
       "0         M1A      Not assigned                                              \n",
       "1         M2A      Not assigned                                              \n",
       "2         M3A        North York                                     Parkwoods\n",
       "3         M4A        North York                              Victoria Village\n",
       "4         M5A  Downtown Toronto                    Regent Park / Harbourfront\n",
       "5         M6A        North York             Lawrence Manor / Lawrence Heights\n",
       "6         M7A  Downtown Toronto  Queen's Park / Ontario Provincial Government\n",
       "7         M8A      Not assigned                                              \n",
       "8         M9A         Etobicoke                              Islington Avenue\n",
       "9         M1B       Scarborough                               Malvern / Rouge"
      ]
     },
     "execution_count": 6,
     "metadata": {},
     "output_type": "execute_result"
    }
   ],
   "source": [
    "df2['Neighborhood'].replace('Not assigned', \"Queen's Park\", inplace=True)\n",
    "df2.head(10)"
   ]
  },
  {
   "cell_type": "code",
   "execution_count": 7,
   "metadata": {},
   "outputs": [
    {
     "data": {
      "text/plain": [
       "(180, 3)"
      ]
     },
     "execution_count": 7,
     "metadata": {},
     "output_type": "execute_result"
    }
   ],
   "source": [
    "df2.shape"
   ]
  },
  {
   "cell_type": "markdown",
   "metadata": {},
   "source": [
    "\n",
    "\n",
    "\n",
    "\n",
    "\n",
    "##  Question 2: Get the location Coordinates for the neighborhoods\n",
    "\n",
    "\n",
    "\n",
    "In this section the latitude and longitudes are obtained and merged with dataframe obtained above"
   ]
  },
  {
   "cell_type": "code",
   "execution_count": 8,
   "metadata": {},
   "outputs": [],
   "source": [
    "df_coordinates = pd.read_csv('http://cocl.us/Geospatial_data')\n",
    "df_coordinates.columns = ['Postal code', 'Latitude', 'Longitude']"
   ]
  },
  {
   "cell_type": "code",
   "execution_count": 12,
   "metadata": {},
   "outputs": [
    {
     "data": {
      "text/html": [
       "<div>\n",
       "<style scoped>\n",
       "    .dataframe tbody tr th:only-of-type {\n",
       "        vertical-align: middle;\n",
       "    }\n",
       "\n",
       "    .dataframe tbody tr th {\n",
       "        vertical-align: top;\n",
       "    }\n",
       "\n",
       "    .dataframe thead th {\n",
       "        text-align: right;\n",
       "    }\n",
       "</style>\n",
       "<table border=\"1\" class=\"dataframe\">\n",
       "  <thead>\n",
       "    <tr style=\"text-align: right;\">\n",
       "      <th></th>\n",
       "      <th>Borough</th>\n",
       "      <th>Neighborhood</th>\n",
       "      <th>Postal code</th>\n",
       "      <th>Latitude</th>\n",
       "      <th>Longitude</th>\n",
       "    </tr>\n",
       "  </thead>\n",
       "  <tbody>\n",
       "    <tr>\n",
       "      <th>0</th>\n",
       "      <td>North York</td>\n",
       "      <td>Parkwoods</td>\n",
       "      <td>M3A</td>\n",
       "      <td>43.753259</td>\n",
       "      <td>-79.329656</td>\n",
       "    </tr>\n",
       "    <tr>\n",
       "      <th>1</th>\n",
       "      <td>North York</td>\n",
       "      <td>Victoria Village</td>\n",
       "      <td>M4A</td>\n",
       "      <td>43.725882</td>\n",
       "      <td>-79.315572</td>\n",
       "    </tr>\n",
       "    <tr>\n",
       "      <th>2</th>\n",
       "      <td>Downtown Toronto</td>\n",
       "      <td>Regent Park / Harbourfront</td>\n",
       "      <td>M5A</td>\n",
       "      <td>43.654260</td>\n",
       "      <td>-79.360636</td>\n",
       "    </tr>\n",
       "    <tr>\n",
       "      <th>3</th>\n",
       "      <td>North York</td>\n",
       "      <td>Lawrence Manor / Lawrence Heights</td>\n",
       "      <td>M6A</td>\n",
       "      <td>43.718518</td>\n",
       "      <td>-79.464763</td>\n",
       "    </tr>\n",
       "    <tr>\n",
       "      <th>4</th>\n",
       "      <td>Downtown Toronto</td>\n",
       "      <td>Queen's Park / Ontario Provincial Government</td>\n",
       "      <td>M7A</td>\n",
       "      <td>43.662301</td>\n",
       "      <td>-79.389494</td>\n",
       "    </tr>\n",
       "    <tr>\n",
       "      <th>5</th>\n",
       "      <td>Etobicoke</td>\n",
       "      <td>Islington Avenue</td>\n",
       "      <td>M9A</td>\n",
       "      <td>43.667856</td>\n",
       "      <td>-79.532242</td>\n",
       "    </tr>\n",
       "    <tr>\n",
       "      <th>6</th>\n",
       "      <td>Scarborough</td>\n",
       "      <td>Malvern / Rouge</td>\n",
       "      <td>M1B</td>\n",
       "      <td>43.806686</td>\n",
       "      <td>-79.194353</td>\n",
       "    </tr>\n",
       "    <tr>\n",
       "      <th>7</th>\n",
       "      <td>North York</td>\n",
       "      <td>Don Mills</td>\n",
       "      <td>M3B</td>\n",
       "      <td>43.745906</td>\n",
       "      <td>-79.352188</td>\n",
       "    </tr>\n",
       "    <tr>\n",
       "      <th>8</th>\n",
       "      <td>East York</td>\n",
       "      <td>Parkview Hill / Woodbine Gardens</td>\n",
       "      <td>M4B</td>\n",
       "      <td>43.706397</td>\n",
       "      <td>-79.309937</td>\n",
       "    </tr>\n",
       "    <tr>\n",
       "      <th>9</th>\n",
       "      <td>Downtown Toronto</td>\n",
       "      <td>Garden District / Ryerson</td>\n",
       "      <td>M5B</td>\n",
       "      <td>43.657162</td>\n",
       "      <td>-79.378937</td>\n",
       "    </tr>\n",
       "    <tr>\n",
       "      <th>10</th>\n",
       "      <td>North York</td>\n",
       "      <td>Glencairn</td>\n",
       "      <td>M6B</td>\n",
       "      <td>43.709577</td>\n",
       "      <td>-79.445073</td>\n",
       "    </tr>\n",
       "    <tr>\n",
       "      <th>11</th>\n",
       "      <td>Etobicoke</td>\n",
       "      <td>West Deane Park / Princess Gardens / Martin Gr...</td>\n",
       "      <td>M9B</td>\n",
       "      <td>43.650943</td>\n",
       "      <td>-79.554724</td>\n",
       "    </tr>\n",
       "    <tr>\n",
       "      <th>12</th>\n",
       "      <td>Scarborough</td>\n",
       "      <td>Rouge Hill / Port Union / Highland Creek</td>\n",
       "      <td>M1C</td>\n",
       "      <td>43.784535</td>\n",
       "      <td>-79.160497</td>\n",
       "    </tr>\n",
       "    <tr>\n",
       "      <th>13</th>\n",
       "      <td>North York</td>\n",
       "      <td>Don Mills</td>\n",
       "      <td>M3C</td>\n",
       "      <td>43.725900</td>\n",
       "      <td>-79.340923</td>\n",
       "    </tr>\n",
       "    <tr>\n",
       "      <th>14</th>\n",
       "      <td>East York</td>\n",
       "      <td>Woodbine Heights</td>\n",
       "      <td>M4C</td>\n",
       "      <td>43.695344</td>\n",
       "      <td>-79.318389</td>\n",
       "    </tr>\n",
       "  </tbody>\n",
       "</table>\n",
       "</div>"
      ],
      "text/plain": [
       "             Borough                                       Neighborhood  \\\n",
       "0         North York                                          Parkwoods   \n",
       "1         North York                                   Victoria Village   \n",
       "2   Downtown Toronto                         Regent Park / Harbourfront   \n",
       "3         North York                  Lawrence Manor / Lawrence Heights   \n",
       "4   Downtown Toronto       Queen's Park / Ontario Provincial Government   \n",
       "5          Etobicoke                                   Islington Avenue   \n",
       "6        Scarborough                                    Malvern / Rouge   \n",
       "7         North York                                          Don Mills   \n",
       "8          East York                   Parkview Hill / Woodbine Gardens   \n",
       "9   Downtown Toronto                          Garden District / Ryerson   \n",
       "10        North York                                          Glencairn   \n",
       "11         Etobicoke  West Deane Park / Princess Gardens / Martin Gr...   \n",
       "12       Scarborough           Rouge Hill / Port Union / Highland Creek   \n",
       "13        North York                                          Don Mills   \n",
       "14         East York                                   Woodbine Heights   \n",
       "\n",
       "   Postal code   Latitude  Longitude  \n",
       "0          M3A  43.753259 -79.329656  \n",
       "1          M4A  43.725882 -79.315572  \n",
       "2          M5A  43.654260 -79.360636  \n",
       "3          M6A  43.718518 -79.464763  \n",
       "4          M7A  43.662301 -79.389494  \n",
       "5          M9A  43.667856 -79.532242  \n",
       "6          M1B  43.806686 -79.194353  \n",
       "7          M3B  43.745906 -79.352188  \n",
       "8          M4B  43.706397 -79.309937  \n",
       "9          M5B  43.657162 -79.378937  \n",
       "10         M6B  43.709577 -79.445073  \n",
       "11         M9B  43.650943 -79.554724  \n",
       "12         M1C  43.784535 -79.160497  \n",
       "13         M3C  43.725900 -79.340923  \n",
       "14         M4C  43.695344 -79.318389  "
      ]
     },
     "execution_count": 12,
     "metadata": {},
     "output_type": "execute_result"
    }
   ],
   "source": [
    "df_merge = pd.merge(df2, df_coordinates, on=['Postal code'], how='inner')\n",
    "\n",
    "df_location = df_merge[['Borough', 'Neighborhood', 'Postal code', 'Latitude', 'Longitude']].copy()\n",
    "\n",
    "df_location.head(15)"
   ]
  },
  {
   "cell_type": "markdown",
   "metadata": {},
   "source": [
    "\n",
    "\n",
    "\n",
    "## Question 3: Clustering of neighborhoods of Toronto\n",
    "\n",
    "\n",
    "Here the lattitude and longitude are obtained for Toronto. The Toronto is located in the map and all the neighborhood cluster is added to the map."
   ]
  },
  {
   "cell_type": "code",
   "execution_count": 17,
   "metadata": {},
   "outputs": [
    {
     "name": "stderr",
     "output_type": "stream",
     "text": [
      "c:\\python37\\lib\\site-packages\\ipykernel_launcher.py:3: DeprecationWarning: Using Nominatim with the default \"geopy/1.21.0\" `user_agent` is strongly discouraged, as it violates Nominatim's ToS https://operations.osmfoundation.org/policies/nominatim/ and may possibly cause 403 and 429 HTTP errors. Please specify a custom `user_agent` with `Nominatim(user_agent=\"my-application\")` or by overriding the default `user_agent`: `geopy.geocoders.options.default_user_agent = \"my-application\"`. In geopy 2.0 this will become an exception.\n",
      "  This is separate from the ipykernel package so we can avoid doing imports until\n"
     ]
    }
   ],
   "source": [
    "address = 'Toronto, Canada'\n",
    "\n",
    "geolocator = Nominatim()\n",
    "location = geolocator.geocode(address)\n",
    "latitude = location.latitude\n",
    "longitude = location.longitude"
   ]
  },
  {
   "cell_type": "code",
   "execution_count": 21,
   "metadata": {},
   "outputs": [
    {
     "data": {
      "text/html": [
       "<div style=\"width:100%;\"><div style=\"position:relative;width:100%;height:0;padding-bottom:60%;\"><iframe src=\"about:blank\" style=\"position:absolute;width:100%;height:100%;left:0;top:0;border:none !important;\" data-html=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 onload=\"this.contentDocument.open();this.contentDocument.write(atob(this.getAttribute('data-html')));this.contentDocument.close();\" allowfullscreen webkitallowfullscreen mozallowfullscreen></iframe></div></div>"
      ],
      "text/plain": [
       "<folium.folium.Map at 0x1a93f10>"
      ]
     },
     "execution_count": 21,
     "metadata": {},
     "output_type": "execute_result"
    }
   ],
   "source": [
    "map_toronto = folium.Map(location=[latitude, longitude], zoom_start=10)\n",
    "\n",
    "# add markers to map\n",
    "for lat, lng, borough, neighborhood in zip(df_location['Latitude'], df_location['Longitude'], df_location['Borough'], df_location['Neighborhood']):\n",
    "    label = '{}, {}'.format(neighborhood, borough)\n",
    "    label = folium.Popup(label, parse_html=True)\n",
    "    folium.CircleMarker(\n",
    "        [lat, lng],\n",
    "        radius=3,\n",
    "        popup=label,\n",
    "        color='green',\n",
    "        fill=True,\n",
    "        fill_color='#3199cc',\n",
    "        fill_opacity=0.3,\n",
    "        parse_html=False).add_to(map_toronto)  \n",
    "    \n",
    "map_toronto"
   ]
  },
  {
   "cell_type": "code",
   "execution_count": null,
   "metadata": {},
   "outputs": [],
   "source": []
  },
  {
   "cell_type": "code",
   "execution_count": null,
   "metadata": {},
   "outputs": [],
   "source": []
  }
 ],
 "metadata": {
  "kernelspec": {
   "display_name": "Python 3",
   "language": "python",
   "name": "python3"
  },
  "language_info": {
   "codemirror_mode": {
    "name": "ipython",
    "version": 3
   },
   "file_extension": ".py",
   "mimetype": "text/x-python",
   "name": "python",
   "nbconvert_exporter": "python",
   "pygments_lexer": "ipython3",
   "version": "3.7.3"
  }
 },
 "nbformat": 4,
 "nbformat_minor": 2
}
